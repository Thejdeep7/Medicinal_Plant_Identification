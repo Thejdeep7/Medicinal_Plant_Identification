{
 "cells": [
  {
   "cell_type": "code",
   "execution_count": 1,
   "id": "ebd9e0c7-eb9b-485d-88bb-dcdfa8b059fe",
   "metadata": {},
   "outputs": [],
   "source": [
    "import os\n",
    "import shutil\n",
    "from sklearn.model_selection import train_test_split\n",
    "from tensorflow.keras.preprocessing.image import ImageDataGenerator"
   ]
  },
  {
   "cell_type": "code",
   "execution_count": 2,
   "id": "bf580c6e-1505-42d5-a362-7c45315caa77",
   "metadata": {},
   "outputs": [],
   "source": [
    "# Define paths\n",
    "data_dir = 'D:/Medicinal plant dataset'"
   ]
  },
  {
   "cell_type": "code",
   "execution_count": 3,
   "id": "8e0285d0-409d-438d-a300-382054585f7b",
   "metadata": {},
   "outputs": [],
   "source": [
    "# Get class names from subdirectory names\n",
    "class_names = sorted(os.listdir(data_dir))"
   ]
  },
  {
   "cell_type": "code",
   "execution_count": 4,
   "id": "66a0cd38-6f23-47be-adfb-d8868e38c1bb",
   "metadata": {},
   "outputs": [
    {
     "name": "stdout",
     "output_type": "stream",
     "text": [
      "Class Names:\n",
      "Aloevera\n",
      "Amla\n",
      "Amruthaballi\n",
      "Arali\n",
      "Astma_weed\n",
      "Badipala\n",
      "Balloon_Vine\n",
      "Bamboo\n",
      "Beans\n",
      "Betel\n",
      "Bhrami\n",
      "Bringaraja\n",
      "Caricature\n",
      "Castor\n",
      "Catharanthus\n",
      "Chakte\n",
      "Chilly\n",
      "Citron lime (herelikai)\n",
      "Coffee\n",
      "Common rue(naagdalli)\n",
      "Coriender\n",
      "Curry\n",
      "Doddpathre\n",
      "Drumstick\n",
      "Ekka\n",
      "Eucalyptus\n",
      "Ganigale\n",
      "Ganike\n",
      "Gasagase\n",
      "Ginger\n",
      "Globe Amarnath\n",
      "Guava\n",
      "Henna\n",
      "Hibiscus\n",
      "Honge\n",
      "Insulin\n",
      "Jackfruit\n",
      "Jasmine\n",
      "Kambajala\n",
      "Kasambruga\n",
      "Kohlrabi\n",
      "Lantana\n",
      "Lemon\n",
      "Lemongrass\n",
      "Malabar_Nut\n",
      "Malabar_Spinach\n",
      "Mango\n",
      "Marigold\n",
      "Mint\n",
      "Neem\n",
      "Nelavembu\n",
      "Nerale\n",
      "Nooni\n",
      "Onion\n",
      "Padri\n",
      "Palak(Spinach)\n",
      "Papaya\n",
      "Parijatha\n",
      "Pea\n",
      "Pepper\n",
      "Pomoegranate\n",
      "Pumpkin\n",
      "Raddish\n",
      "Rose\n",
      "Sampige\n",
      "Sapota\n",
      "Seethaashoka\n",
      "Seethapala\n",
      "Spinach1\n",
      "Tamarind\n",
      "Taro\n",
      "Tecoma\n",
      "Thumbe\n",
      "Tomato\n",
      "Tulsi\n",
      "Turmeric\n",
      "ashoka\n",
      "camphor\n",
      "kamakasturi\n",
      "kepala\n"
     ]
    }
   ],
   "source": [
    "# Print class names to check\n",
    "print(\"Class Names:\")\n",
    "for class_name in class_names:\n",
    "    print(class_name)"
   ]
  },
  {
   "cell_type": "code",
   "execution_count": 6,
   "id": "910f3666-bf72-432c-a5bb-1802b8146802",
   "metadata": {},
   "outputs": [],
   "source": [
    "# Split data into training and testing sets\n",
    "train_data_dir = os.path.join(data_dir, 'train')\n",
    "test_data_dir = os.path.join(data_dir, 'test')"
   ]
  },
  {
   "cell_type": "code",
   "execution_count": 7,
   "id": "3ef3c06d-a791-4048-819a-0699a12c8277",
   "metadata": {},
   "outputs": [],
   "source": [
    "# Create train and test directories\n",
    "os.makedirs(train_data_dir, exist_ok=True)\n",
    "os.makedirs(test_data_dir, exist_ok=True)\n",
    "for class_name in class_names:\n",
    "    os.makedirs(os.path.join(train_data_dir, class_name), exist_ok=True)\n",
    "    os.makedirs(os.path.join(test_data_dir, class_name), exist_ok=True)\n",
    "\n",
    "    class_images = os.listdir(os.path.join(data_dir, class_name))\n",
    "    train_images, test_images = train_test_split(class_images, test_size=0.2, random_state=42)\n",
    "\n",
    "    for image in train_images:\n",
    "        src_path = os.path.join(data_dir, class_name, image)\n",
    "        dest_path = os.path.join(train_data_dir, class_name, image)\n",
    "        shutil.copy(src_path, dest_path)\n",
    "    for image in test_images:\n",
    "        src_path = os.path.join(data_dir, class_name, image)\n",
    "        dest_path = os.path.join(test_data_dir, class_name, image)\n",
    "        shutil.copy(src_path, dest_path)"
   ]
  },
  {
   "cell_type": "code",
   "execution_count": 8,
   "id": "feae9cca-ca85-4b93-9cc1-e553c1de3e38",
   "metadata": {},
   "outputs": [],
   "source": [
    "import numpy as np\n",
    "from tensorflow.keras.preprocessing.image import ImageDataGenerator\n",
    "from tensorflow.keras.applications import ResNet50\n",
    "from tensorflow.keras.applications.resnet50 import preprocess_input\n",
    "from tensorflow.keras.models import Sequential\n",
    "from tensorflow.keras.layers import Dense, GlobalAveragePooling2D"
   ]
  },
  {
   "cell_type": "code",
   "execution_count": 9,
   "id": "977ffb28-1f48-47b6-adb2-038d53798e78",
   "metadata": {},
   "outputs": [
    {
     "name": "stdout",
     "output_type": "stream",
     "text": [
      "Found 5487 images belonging to 80 classes.\n",
      "Found 1413 images belonging to 80 classes.\n"
     ]
    }
   ],
   "source": [
    "# Data generators\n",
    "train_datagen = ImageDataGenerator(preprocessing_function=preprocess_input)\n",
    "test_datagen = ImageDataGenerator(preprocessing_function=preprocess_input)\n",
    "train_generator = train_datagen.flow_from_directory(\n",
    "    train_data_dir,\n",
    "    target_size=(224, 224),\n",
    "    batch_size=32,\n",
    "    class_mode='categorical'\n",
    ")\n",
    "\n",
    "validation_generator = test_datagen.flow_from_directory(\n",
    "    test_data_dir,\n",
    "    target_size=(224, 224),\n",
    "    batch_size=32,\n",
    "    class_mode='categorical'\n",
    ")"
   ]
  },
  {
   "cell_type": "code",
   "execution_count": 11,
   "id": "7f62463e-2a52-4524-9c37-2ecb19e7add6",
   "metadata": {},
   "outputs": [],
   "source": [
    "# Build the model\n",
    "base_model = ResNet50(weights='imagenet', include_top=False, input_shape=(224, 224, 3))\n",
    "model = Sequential()\n",
    "model.add(base_model)\n",
    "model.add(GlobalAveragePooling2D())\n",
    "model.add(Dense(len(class_names), activation='softmax'))\n",
    "model.compile(optimizer='adam', loss='categorical_crossentropy', metrics=['accuracy'])\n"
   ]
  },
  {
   "cell_type": "code",
   "execution_count": 12,
   "id": "2202e54e-da0f-4109-af50-fdaa8b0f5481",
   "metadata": {},
   "outputs": [],
   "source": [
    "# Early stopping callback\n",
    "early_stopping = EarlyStopping(monitor='val_loss', patience=5, restore_best_weights=True)"
   ]
  },
  {
   "cell_type": "code",
   "execution_count": 13,
   "id": "751a0f67-487d-4a4b-8a0c-5b8dc93eac79",
   "metadata": {},
   "outputs": [
    {
     "name": "stdout",
     "output_type": "stream",
     "text": [
      "Epoch 1/25\n",
      "172/172 [==============================] - 740s 4s/step - loss: 2.5133 - accuracy: 0.3842 - val_loss: 10.9580 - val_accuracy: 0.0403\n",
      "Epoch 2/25\n",
      "172/172 [==============================] - 668s 4s/step - loss: 0.9475 - accuracy: 0.7292 - val_loss: 3.8046 - val_accuracy: 0.2958\n",
      "Epoch 3/25\n",
      "172/172 [==============================] - 1887s 11s/step - loss: 0.5101 - accuracy: 0.8495 - val_loss: 1.2532 - val_accuracy: 0.6348\n",
      "Epoch 4/25\n",
      "172/172 [==============================] - 666s 4s/step - loss: 0.3002 - accuracy: 0.9105 - val_loss: 0.9064 - val_accuracy: 0.7509\n",
      "Epoch 5/25\n",
      "172/172 [==============================] - 667s 4s/step - loss: 0.2481 - accuracy: 0.9211 - val_loss: 1.1917 - val_accuracy: 0.6886\n",
      "Epoch 6/25\n",
      "172/172 [==============================] - 701s 4s/step - loss: 0.1484 - accuracy: 0.9559 - val_loss: 1.0547 - val_accuracy: 0.7254\n",
      "Epoch 7/25\n",
      "172/172 [==============================] - 683s 4s/step - loss: 0.1566 - accuracy: 0.9532 - val_loss: 0.8769 - val_accuracy: 0.7565\n",
      "Epoch 8/25\n",
      "172/172 [==============================] - 725s 4s/step - loss: 0.0974 - accuracy: 0.9739 - val_loss: 0.6414 - val_accuracy: 0.8323\n",
      "Epoch 9/25\n",
      "172/172 [==============================] - 1815s 11s/step - loss: 0.0775 - accuracy: 0.9778 - val_loss: 1.0071 - val_accuracy: 0.7381\n",
      "Epoch 10/25\n",
      "172/172 [==============================] - 688s 4s/step - loss: 0.1514 - accuracy: 0.9544 - val_loss: 1.4368 - val_accuracy: 0.6341\n",
      "Epoch 11/25\n",
      "172/172 [==============================] - 697s 4s/step - loss: 0.1179 - accuracy: 0.9634 - val_loss: 1.1821 - val_accuracy: 0.7063\n",
      "Epoch 12/25\n",
      "172/172 [==============================] - 657s 4s/step - loss: 0.0717 - accuracy: 0.9796 - val_loss: 0.7830 - val_accuracy: 0.7841\n",
      "Epoch 13/25\n",
      "172/172 [==============================] - 651s 4s/step - loss: 0.0589 - accuracy: 0.9825 - val_loss: 1.3849 - val_accuracy: 0.7205\n"
     ]
    }
   ],
   "source": [
    "# Train the model\n",
    "history = model.fit(\n",
    "    train_generator,\n",
    "    epochs=25,\n",
    "    validation_data=validation_generator,\n",
    "    callbacks=[early_stopping]\n",
    ")"
   ]
  },
  {
   "cell_type": "code",
   "execution_count": 14,
   "id": "1e9fe4c5-053d-48d6-8dcc-fc0d550e7b5a",
   "metadata": {},
   "outputs": [],
   "source": [
    "# Save the model\n",
    "model.save('D:/model/resnet50_model.h5')"
   ]
  },
  {
   "cell_type": "code",
   "execution_count": 15,
   "id": "224efbef-6845-41c5-ba07-3f38748f3cf7",
   "metadata": {},
   "outputs": [],
   "source": [
    "from tensorflow.keras.models import load_model\n",
    "from tensorflow.keras.preprocessing import image\n",
    "import numpy as np\n",
    "import tensorflow as tf\n"
   ]
  },
  {
   "cell_type": "code",
   "execution_count": 16,
   "id": "d77100bf-3e14-4312-ba29-1af0cb7a9c3c",
   "metadata": {},
   "outputs": [],
   "source": [
    "\n",
    "# Function to predict plant name from image\n",
    "def load_and_preprocess_image(img_path, target_size=(224, 224)):\n",
    "    img = image.load_img(img_path, target_size=target_size)\n",
    "    img_array = image.img_to_array(img)\n",
    "    img_array = np.expand_dims(img_array, axis=0)\n",
    "    img_array = preprocess_input(img_array)\n",
    "    return img_array\n",
    "def predict_plant_name(model, img_path, class_indices):\n",
    "    img_array = load_and_preprocess_image(img_path)\n",
    "    predictions = model.predict(img_array)\n",
    "    predicted_class_index = np.argmax(predictions, axis=1)[0]\n",
    "\n",
    "    class_labels = {v: k for k, v in class_indices.items()}\n",
    "    predicted_class_name = class_labels[predicted_class_index]\n",
    "    return predicted_class_name, predicted_class_index"
   ]
  },
  {
   "cell_type": "code",
   "execution_count": 17,
   "id": "05a0af7d-2ffe-490f-9c51-d930c22df4eb",
   "metadata": {},
   "outputs": [],
   "source": [
    "# Load the saved model\n",
    "model = load_model('D:/model/resnet50_model.h5')\n"
   ]
  },
  {
   "cell_type": "code",
   "execution_count": 22,
   "id": "b5c737c1-fa44-4fd9-bc32-523fcd9282a5",
   "metadata": {},
   "outputs": [
    {
     "name": "stdout",
     "output_type": "stream",
     "text": [
      "1/1 [==============================] - 0s 113ms/step\n",
      "The predicted plant name is: Betel\n"
     ]
    }
   ],
   "source": [
    "img_path = 'D:/TEST_PICS/Betel/1938.jpg'\n",
    "predicted_class_name, predicted_class_index = predict_plant_name(model, img_path, train_generator.class_indices)\n",
    "print(f'The predicted plant name is: {predicted_class_name}')"
   ]
  },
  {
   "cell_type": "code",
   "execution_count": null,
   "id": "d7596b62-29dc-4e51-ab9d-2f0674a053ec",
   "metadata": {},
   "outputs": [],
   "source": []
  }
 ],
 "metadata": {
  "kernelspec": {
   "display_name": "Python 3 (ipykernel)",
   "language": "python",
   "name": "python3"
  },
  "language_info": {
   "codemirror_mode": {
    "name": "ipython",
    "version": 3
   },
   "file_extension": ".py",
   "mimetype": "text/x-python",
   "name": "python",
   "nbconvert_exporter": "python",
   "pygments_lexer": "ipython3",
   "version": "3.12.4"
  }
 },
 "nbformat": 4,
 "nbformat_minor": 5
}
